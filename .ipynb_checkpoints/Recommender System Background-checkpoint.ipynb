{
 "cells": [
  {
   "cell_type": "markdown",
   "metadata": {},
   "source": [
    "# Recommender Systems"
   ]
  },
  {
   "cell_type": "markdown",
   "metadata": {},
   "source": [
    "Recommender systems are currently a critical department in many of the Tech giants <br> including Google, Facebook, Netflix, Amazon and so on.\n",
    "Most of these companies invest 15-20% of their revenue on RecSystems to attact more traffic <br>\n",
    "and make more money out of it. <br>\n",
    "\n",
    "Recommender systems are the systems that are designed to recommend things to the user based on many different factors. These systems predict the most likely product that the users are most likely to purchase and are of interest to. Companies like Netflix, Amazon, etc. use recommender systems to help their users to identify the correct product or movies for them\n",
    "\n",
    "\n",
    "The purpose of a recommender system is to suggest relevant items to users. <br>\n",
    "To achieve this task, there exist two major categories of methods <br>\n",
    "    In this project tutorial we will discuss and implement Recommender System using a real-time <br>\n",
    "    data from movies. We will describe the different types of RecSystems and their applications <br>\n",
    "\n",
    "\n",
    "       \n",
    "      "
   ]
  },
  {
   "cell_type": "markdown",
   "metadata": {},
   "source": [
    "<b> Top-n Recommenders </b>"
   ]
  },
  {
   "cell_type": "markdown",
   "metadata": {},
   "source": [
    "The goal in top-N recommendation is to recommend to each consumer a small set <br> of N items from a large collection of items. <br>\n",
    " For example, Netflix may want to recommend N appealing movies to each consumer. Collaborative Filtering (CF)  is a common top-N recommendation method.\n",
    " \n",
    " <b> hit rate </b>\n",
    " In recommender settings, the hit ratio is simply the fraction of users for which the correct answer is included in the recommendation list of length L.\n",
    " \n",
    " "
   ]
  },
  {
   "cell_type": "markdown",
   "metadata": {},
   "source": [
    "<b> Evaluation Metrics </b>"
   ]
  },
  {
   "cell_type": "markdown",
   "metadata": {},
   "source": [
    "<b> Average reciprocal hit rate </b>\n",
    "A variation on “hit rate” is “average reciprocal hit rate” or “ARHR” for short. This metric is just like “hit rate” but it accounts for where in the top-end list your hits appear. So we end up getting more credit for successfully recommending an item in the top slot than in the bottom slot. Again, this a more user focused metric since users tend to focus on the beginning of lists. The only difference is that instead of summing up the number of hits we sum up the reciprocal rank of each hit."
   ]
  },
  {
   "cell_type": "markdown",
   "metadata": {},
   "source": [
    "<b> Cumulative Hit Rate(CHR) </b>\n",
    "Sounds fancy but all it means is that we throw away hits if our predicted <br>rating is below some threshold. The idea is that we shouldn’t get credit for recommending items to a user that we think they won’t actually enjoy."
   ]
  },
  {
   "cell_type": "markdown",
   "metadata": {},
   "source": [
    "<b> Diversity </b>diversity. We can think of this as a measure of how broad a variety of items our recommender system is putting in front of people. An example of low diversity would be a recommender system that just recommends the next books in a series that we’ve started reading, but doesn’t recommend books from different authors, or movies related to what we’ve read"
   ]
  },
  {
   "cell_type": "markdown",
   "metadata": {},
   "source": [
    "<b> Novelty </b> is a measure of how popular the items are that we’re recommending. And again, just recommending random stuff would yield very high novelty scores since the vast majority of items are not top sellers."
   ]
  },
  {
   "cell_type": "markdown",
   "metadata": {},
   "source": [
    " <b> churn </b>  How often do the recommendations for a user change? In part, churn can measure how sensitive your recommender system is to new user behavior. If a user rates a new movie, does that substantially change their recommendations? If so, then our churn score will be high"
   ]
  },
  {
   "cell_type": "markdown",
   "metadata": {},
   "source": [
    "<b> Responsiveness </b> : how quickly does new user behavior influence our recommendations? If we rate a new movie, does it affect our recommendations immediately or does it only affect our recommendations the next day after some nightly job runs? More responsiveness would always seem to be a good thing, but in the world of business we have to decide how responsive our recommender really needs to be, since recommender systems that have instantaneous responsiveness are complex, difficult to maintain, and expensive to build. We need to strike your own balance between responsiveness and simplicity"
   ]
  },
  {
   "cell_type": "code",
   "execution_count": null,
   "metadata": {},
   "outputs": [],
   "source": []
  },
  {
   "cell_type": "markdown",
   "metadata": {},
   "source": [
    "notes from: LinkedIn Learning"
   ]
  },
  {
   "cell_type": "code",
   "execution_count": null,
   "metadata": {},
   "outputs": [],
   "source": []
  }
 ],
 "metadata": {
  "kernelspec": {
   "display_name": "Python 3",
   "language": "python",
   "name": "python3"
  },
  "language_info": {
   "codemirror_mode": {
    "name": "ipython",
    "version": 3
   },
   "file_extension": ".py",
   "mimetype": "text/x-python",
   "name": "python",
   "nbconvert_exporter": "python",
   "pygments_lexer": "ipython3",
   "version": "3.8.5"
  }
 },
 "nbformat": 4,
 "nbformat_minor": 4
}
