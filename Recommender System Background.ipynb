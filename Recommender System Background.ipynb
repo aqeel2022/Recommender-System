{
 "cells": [
  {
   "cell_type": "markdown",
   "metadata": {},
   "source": [
    "# Recommender Systems"
   ]
  },
  {
   "attachments": {},
   "cell_type": "markdown",
   "metadata": {},
   "source": [
    "Recommender systems are currently a critical department in many of the Tech giants <br> including Google, Facebook, Netflix, Amazon and so on.\n",
    "Most of these companies invest 15-20% of their revenue on RecSystems to attact more traffic <br>\n",
    "and make more money out of it. <br>\n",
    "\n",
    "Recommender systems are the systems that are designed to recommend things to the user based on many different factors. These systems predict the most likely product that the users are most likely to purchase and are of interest to. Companies like Netflix, Amazon, etc. use recommender systems to help their users to identify the correct product or movies for them\n",
    "\n",
    "\n",
    "The purpose of a recommender system is to suggest relevant items to users. <br>\n",
    "To achieve this task, there exist two major categories of methods <br>\n",
    "    In this project tutorial we will discuss and implement Recommender System using a real-time <br>\n",
    "    data from movies. We will describe the different types of RecSystems and their applications <br>\n",
    "\n",
    "\n",
    "       \n",
    "      "
   ]
  },
  {
   "cell_type": "code",
   "execution_count": null,
   "metadata": {},
   "outputs": [],
   "source": []
  }
 ],
 "metadata": {
  "kernelspec": {
   "display_name": "Python 3",
   "language": "python",
   "name": "python3"
  },
  "language_info": {
   "codemirror_mode": {
    "name": "ipython",
    "version": 3
   },
   "file_extension": ".py",
   "mimetype": "text/x-python",
   "name": "python",
   "nbconvert_exporter": "python",
   "pygments_lexer": "ipython3",
   "version": "3.8.5"
  }
 },
 "nbformat": 4,
 "nbformat_minor": 4
}
